{
 "cells": [
  {
   "cell_type": "code",
   "execution_count": 1,
   "metadata": {},
   "outputs": [
    {
     "name": "stdout",
     "output_type": "stream",
     "text": [
      "Cluster assignments:\n",
      "Cluster 1 (C1): [array([0.1, 0.6]), array([0.15, 0.71]), array([0.08, 0.9 ]), array([0.16, 0.85]), array([0.25, 0.5 ])]\n",
      "Cluster 2 (C2): [array([0.2, 0.3]), array([0.24, 0.1 ]), array([0.3, 0.2])]\n",
      "\n",
      "1) P6 belongs to Cluster C1\n",
      "2) Population of Cluster around m2 (C2): 3\n",
      "3) Updated centroids:\n",
      "   m1 = [0.148 0.712]\n",
      "   m2 = [0.24666667 0.2       ]\n"
     ]
    }
   ],
   "source": [
    "import numpy as np\n",
    "\n",
    "# Define the points\n",
    "points = np.array([\n",
    "    [0.1, 0.6],  # P1\n",
    "    [0.15, 0.71],  # P2\n",
    "    [0.08, 0.9],  # P3\n",
    "    [0.16, 0.85],  # P4\n",
    "    [0.2, 0.3],  # P5\n",
    "    [0.25, 0.5],  # P6\n",
    "    [0.24, 0.1],  # P7\n",
    "    [0.3, 0.2]  # P8\n",
    "])\n",
    "\n",
    "# Initial centroids\n",
    "m1 = points[0]  # P1\n",
    "m2 = points[7]  # P8\n",
    "\n",
    "\n",
    "# Function to calculate the Euclidean distance\n",
    "def euclidean_distance(point, centroid):\n",
    "    return np.sqrt(np.sum((point - centroid) ** 2))\n",
    "\n",
    "\n",
    "# Perform one iteration of K-means clustering\n",
    "def k_means_iteration(points, m1, m2):\n",
    "    cluster_1 = []\n",
    "    cluster_2 = []\n",
    "\n",
    "    # Assign each point to the nearest cluster\n",
    "    for point in points:\n",
    "        distance_to_m1 = euclidean_distance(point, m1)\n",
    "        distance_to_m2 = euclidean_distance(point, m2)\n",
    "\n",
    "        if distance_to_m1 < distance_to_m2:\n",
    "            cluster_1.append(point)\n",
    "        else:\n",
    "            cluster_2.append(point)\n",
    "\n",
    "    # Calculate new centroids\n",
    "    new_m1 = np.mean(cluster_1, axis=0)\n",
    "    new_m2 = np.mean(cluster_2, axis=0)\n",
    "\n",
    "    return cluster_1, cluster_2, new_m1, new_m2\n",
    "\n",
    "\n",
    "# Run the K-means iteration\n",
    "cluster_1, cluster_2, new_m1, new_m2 = k_means_iteration(points, m1, m2)\n",
    "\n",
    "# Find which cluster P6 belongs to\n",
    "p6 = points[5]\n",
    "p6_cluster = \"C1\" if euclidean_distance(p6, new_m1) < euclidean_distance(p6, new_m2) else \"C2\"\n",
    "\n",
    "# Display the results\n",
    "print(\"Cluster assignments:\")\n",
    "print(\"Cluster 1 (C1):\", cluster_1)\n",
    "print(\"Cluster 2 (C2):\", cluster_2)\n",
    "print()\n",
    "print(f\"1) P6 belongs to Cluster {p6_cluster}\")\n",
    "print(f\"2) Population of Cluster around m2 (C2): {len(cluster_2)}\")\n",
    "print(f\"3) Updated centroids:\\n   m1 = {new_m1}\\n   m2 = {new_m2}\")\n"
   ]
  }
 ],
 "metadata": {
  "kernelspec": {
   "display_name": "base",
   "language": "python",
   "name": "python3"
  },
  "language_info": {
   "codemirror_mode": {
    "name": "ipython",
    "version": 3
   },
   "file_extension": ".py",
   "mimetype": "text/x-python",
   "name": "python",
   "nbconvert_exporter": "python",
   "pygments_lexer": "ipython3",
   "version": "3.12.4"
  }
 },
 "nbformat": 4,
 "nbformat_minor": 2
}
